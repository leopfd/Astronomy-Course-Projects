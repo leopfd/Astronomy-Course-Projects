{
 "cells": [
  {
   "cell_type": "code",
   "execution_count": 52,
   "metadata": {},
   "outputs": [],
   "source": [
    "import random\n",
    "import math\n",
    "import numpy as np"
   ]
  },
  {
   "cell_type": "code",
   "execution_count": 53,
   "metadata": {},
   "outputs": [],
   "source": [
    "#Part A\n",
    "def trap(a,b,N):\n",
    "    #Parameters: Interval of integration [a,b] and number of subintervals in [a,b] N\n",
    "\n",
    "    x = np.linspace(a,b,N+1) # N+1 points make N subintervals\n",
    "    y = (1/math.sqrt(2*math.pi))*math.e**((-x**2)/2) #function to integrate\n",
    "    y_right = y[1:] # right endpoints\n",
    "    y_left = y[:-1] # left endpoints\n",
    "    dx = (b - a)/N\n",
    "    trap_sum = (dx/2) * np.sum(y_right + y_left)\n",
    "    return trap_sum"
   ]
  },
  {
   "cell_type": "code",
   "execution_count": 54,
   "metadata": {},
   "outputs": [
    {
     "name": "stdout",
     "output_type": "stream",
     "text": [
      "Trapezoidal rule with 10 intervals: 0.34114303653597017\n",
      "Trapezoidal rule with 20 intervals: 0.34129433129930387\n"
     ]
    }
   ],
   "source": [
    "X = trap(0,1,10)\n",
    "XX = trap(0,1,20)\n",
    "print(\"Trapezoidal rule with 10 intervals:\",X)\n",
    "print(\"Trapezoidal rule with 20 intervals:\",XX)"
   ]
  },
  {
   "cell_type": "code",
   "execution_count": 55,
   "metadata": {},
   "outputs": [],
   "source": [
    "#Part B\n",
    "\n",
    "\n",
    "def function(x):\n",
    "    return (1/math.sqrt(2*math.pi))*math.e**((-x**2)/2) #function to be integrated\n",
    "\n",
    "\n",
    "\n",
    "def monte_carlo(a,b,draws): #montecarlo sim of the integration\n",
    "    #parameters are interval of integration [a,b] and number of draws\n",
    "    sum_draws = 0\n",
    "    for i in range(draws):\n",
    "        x = random.uniform(a,b)\n",
    "        sum_draws += function(x)\n",
    "    return (b-a)*float(sum_draws/draws)\n",
    "    "
   ]
  },
  {
   "cell_type": "code",
   "execution_count": 62,
   "metadata": {
    "scrolled": false
   },
   "outputs": [
    {
     "name": "stdout",
     "output_type": "stream",
     "text": [
      "MC sim with 100 draws: 0.33583511886679807\n",
      "MC sim with 1000 draws: 0.34176049868335684\n"
     ]
    }
   ],
   "source": [
    "C = monte_carlo(0,1,100)\n",
    "M = monte_carlo(0,1,1000)\n",
    "print(\"MC sim with 100 draws:\",C)\n",
    "print(\"MC sim with 1000 draws:\",M)"
   ]
  },
  {
   "cell_type": "code",
   "execution_count": null,
   "metadata": {},
   "outputs": [],
   "source": []
  }
 ],
 "metadata": {
  "kernelspec": {
   "display_name": "Python 3",
   "language": "python",
   "name": "python3"
  },
  "language_info": {
   "codemirror_mode": {
    "name": "ipython",
    "version": 3
   },
   "file_extension": ".py",
   "mimetype": "text/x-python",
   "name": "python",
   "nbconvert_exporter": "python",
   "pygments_lexer": "ipython3",
   "version": "3.7.4"
  }
 },
 "nbformat": 4,
 "nbformat_minor": 2
}
